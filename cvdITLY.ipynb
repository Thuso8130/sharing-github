{
 "cells": [
  {
   "cell_type": "markdown",
   "metadata": {},
   "source": [
    "# COVID-19 DATA ANALYSIS FOR ITALY\n",
    "\n",
    "This notebook aims at analysing the occurance, distribution and spread of COVID-19 across different regions in Italy. The source of the dataset is https://www.kaggle.com/sudalairajkumar/covid19-in-italy#covid19_italy_region.csv. The dataset is disaggregated by various regions in Italy. It is composed of 17 columns.It has cases dated from 24th February to 7th May 2020. "
   ]
  },
  {
   "cell_type": "markdown",
   "metadata": {},
   "source": [
    "## 1. EXPLORATORY DATA ANALYSIS"
   ]
  },
  {
   "cell_type": "code",
   "execution_count": 1,
   "metadata": {},
   "outputs": [],
   "source": [
    "#let us begin by importing the packages:\n",
    "import pandas as pd\n",
    "import matplotlib.pyplot as plt\n",
    "import numpy as np\n",
    "import seaborn as sns"
   ]
  },
  {
   "cell_type": "code",
   "execution_count": 2,
   "metadata": {},
   "outputs": [],
   "source": [
    "#let us now read our data into our dataFrame: df\n",
    "\n",
    "df = pd.read_csv(r'C:\\Users\\covid19_italy_region.csv', parse_dates=['Date'])"
   ]
  },
  {
   "cell_type": "code",
   "execution_count": 6,
   "metadata": {},
   "outputs": [
    {
     "data": {
      "text/html": [
       "<div>\n",
       "<style scoped>\n",
       "    .dataframe tbody tr th:only-of-type {\n",
       "        vertical-align: middle;\n",
       "    }\n",
       "\n",
       "    .dataframe tbody tr th {\n",
       "        vertical-align: top;\n",
       "    }\n",
       "\n",
       "    .dataframe thead th {\n",
       "        text-align: right;\n",
       "    }\n",
       "</style>\n",
       "<table border=\"1\" class=\"dataframe\">\n",
       "  <thead>\n",
       "    <tr style=\"text-align: right;\">\n",
       "      <th></th>\n",
       "      <th>SNo</th>\n",
       "      <th>Date</th>\n",
       "      <th>Country</th>\n",
       "      <th>RegionCode</th>\n",
       "      <th>RegionName</th>\n",
       "      <th>Latitude</th>\n",
       "      <th>Longitude</th>\n",
       "      <th>HospitalizedPatients</th>\n",
       "      <th>IntensiveCarePatients</th>\n",
       "      <th>TotalHospitalizedPatients</th>\n",
       "      <th>HomeConfinement</th>\n",
       "      <th>CurrentPositiveCases</th>\n",
       "      <th>NewPositiveCases</th>\n",
       "      <th>Recovered</th>\n",
       "      <th>Deaths</th>\n",
       "      <th>TotalPositiveCases</th>\n",
       "      <th>TestsPerformed</th>\n",
       "    </tr>\n",
       "  </thead>\n",
       "  <tbody>\n",
       "    <tr>\n",
       "      <th>0</th>\n",
       "      <td>0</td>\n",
       "      <td>2020-02-24 18:00:00</td>\n",
       "      <td>ITA</td>\n",
       "      <td>13</td>\n",
       "      <td>Abruzzo</td>\n",
       "      <td>42.351222</td>\n",
       "      <td>13.398438</td>\n",
       "      <td>0</td>\n",
       "      <td>0</td>\n",
       "      <td>0</td>\n",
       "      <td>0</td>\n",
       "      <td>0</td>\n",
       "      <td>0</td>\n",
       "      <td>0</td>\n",
       "      <td>0</td>\n",
       "      <td>0</td>\n",
       "      <td>NaN</td>\n",
       "    </tr>\n",
       "    <tr>\n",
       "      <th>1</th>\n",
       "      <td>1</td>\n",
       "      <td>2020-02-24 18:00:00</td>\n",
       "      <td>ITA</td>\n",
       "      <td>17</td>\n",
       "      <td>Basilicata</td>\n",
       "      <td>40.639471</td>\n",
       "      <td>15.805148</td>\n",
       "      <td>0</td>\n",
       "      <td>0</td>\n",
       "      <td>0</td>\n",
       "      <td>0</td>\n",
       "      <td>0</td>\n",
       "      <td>0</td>\n",
       "      <td>0</td>\n",
       "      <td>0</td>\n",
       "      <td>0</td>\n",
       "      <td>NaN</td>\n",
       "    </tr>\n",
       "    <tr>\n",
       "      <th>2</th>\n",
       "      <td>2</td>\n",
       "      <td>2020-02-24 18:00:00</td>\n",
       "      <td>ITA</td>\n",
       "      <td>4</td>\n",
       "      <td>P.A. Bolzano</td>\n",
       "      <td>46.499335</td>\n",
       "      <td>11.356624</td>\n",
       "      <td>0</td>\n",
       "      <td>0</td>\n",
       "      <td>0</td>\n",
       "      <td>0</td>\n",
       "      <td>0</td>\n",
       "      <td>0</td>\n",
       "      <td>0</td>\n",
       "      <td>0</td>\n",
       "      <td>0</td>\n",
       "      <td>NaN</td>\n",
       "    </tr>\n",
       "    <tr>\n",
       "      <th>3</th>\n",
       "      <td>3</td>\n",
       "      <td>2020-02-24 18:00:00</td>\n",
       "      <td>ITA</td>\n",
       "      <td>18</td>\n",
       "      <td>Calabria</td>\n",
       "      <td>38.905976</td>\n",
       "      <td>16.594402</td>\n",
       "      <td>0</td>\n",
       "      <td>0</td>\n",
       "      <td>0</td>\n",
       "      <td>0</td>\n",
       "      <td>0</td>\n",
       "      <td>0</td>\n",
       "      <td>0</td>\n",
       "      <td>0</td>\n",
       "      <td>0</td>\n",
       "      <td>NaN</td>\n",
       "    </tr>\n",
       "    <tr>\n",
       "      <th>4</th>\n",
       "      <td>4</td>\n",
       "      <td>2020-02-24 18:00:00</td>\n",
       "      <td>ITA</td>\n",
       "      <td>15</td>\n",
       "      <td>Campania</td>\n",
       "      <td>40.839566</td>\n",
       "      <td>14.250850</td>\n",
       "      <td>0</td>\n",
       "      <td>0</td>\n",
       "      <td>0</td>\n",
       "      <td>0</td>\n",
       "      <td>0</td>\n",
       "      <td>0</td>\n",
       "      <td>0</td>\n",
       "      <td>0</td>\n",
       "      <td>0</td>\n",
       "      <td>NaN</td>\n",
       "    </tr>\n",
       "  </tbody>\n",
       "</table>\n",
       "</div>"
      ],
      "text/plain": [
       "   SNo                Date Country  RegionCode    RegionName   Latitude  \\\n",
       "0    0 2020-02-24 18:00:00     ITA          13       Abruzzo  42.351222   \n",
       "1    1 2020-02-24 18:00:00     ITA          17    Basilicata  40.639471   \n",
       "2    2 2020-02-24 18:00:00     ITA           4  P.A. Bolzano  46.499335   \n",
       "3    3 2020-02-24 18:00:00     ITA          18      Calabria  38.905976   \n",
       "4    4 2020-02-24 18:00:00     ITA          15      Campania  40.839566   \n",
       "\n",
       "   Longitude  HospitalizedPatients  IntensiveCarePatients  \\\n",
       "0  13.398438                     0                      0   \n",
       "1  15.805148                     0                      0   \n",
       "2  11.356624                     0                      0   \n",
       "3  16.594402                     0                      0   \n",
       "4  14.250850                     0                      0   \n",
       "\n",
       "   TotalHospitalizedPatients  HomeConfinement  CurrentPositiveCases  \\\n",
       "0                          0                0                     0   \n",
       "1                          0                0                     0   \n",
       "2                          0                0                     0   \n",
       "3                          0                0                     0   \n",
       "4                          0                0                     0   \n",
       "\n",
       "   NewPositiveCases  Recovered  Deaths  TotalPositiveCases  TestsPerformed  \n",
       "0                 0          0       0                   0             NaN  \n",
       "1                 0          0       0                   0             NaN  \n",
       "2                 0          0       0                   0             NaN  \n",
       "3                 0          0       0                   0             NaN  \n",
       "4                 0          0       0                   0             NaN  "
      ]
     },
     "execution_count": 6,
     "metadata": {},
     "output_type": "execute_result"
    }
   ],
   "source": [
    "df.head()"
   ]
  },
  {
   "cell_type": "code",
   "execution_count": 7,
   "metadata": {},
   "outputs": [
    {
     "name": "stdout",
     "output_type": "stream",
     "text": [
      "<class 'pandas.core.frame.DataFrame'>\n",
      "RangeIndex: 1533 entries, 0 to 1532\n",
      "Data columns (total 17 columns):\n",
      " #   Column                     Non-Null Count  Dtype         \n",
      "---  ------                     --------------  -----         \n",
      " 0   SNo                        1533 non-null   int64         \n",
      " 1   Date                       1533 non-null   datetime64[ns]\n",
      " 2   Country                    1533 non-null   object        \n",
      " 3   RegionCode                 1533 non-null   int64         \n",
      " 4   RegionName                 1533 non-null   object        \n",
      " 5   Latitude                   1533 non-null   float64       \n",
      " 6   Longitude                  1533 non-null   float64       \n",
      " 7   HospitalizedPatients       1533 non-null   int64         \n",
      " 8   IntensiveCarePatients      1533 non-null   int64         \n",
      " 9   TotalHospitalizedPatients  1533 non-null   int64         \n",
      " 10  HomeConfinement            1533 non-null   int64         \n",
      " 11  CurrentPositiveCases       1533 non-null   int64         \n",
      " 12  NewPositiveCases           1533 non-null   int64         \n",
      " 13  Recovered                  1533 non-null   int64         \n",
      " 14  Deaths                     1533 non-null   int64         \n",
      " 15  TotalPositiveCases         1533 non-null   int64         \n",
      " 16  TestsPerformed             378 non-null    float64       \n",
      "dtypes: datetime64[ns](1), float64(3), int64(11), object(2)\n",
      "memory usage: 203.7+ KB\n"
     ]
    }
   ],
   "source": [
    "df.info()"
   ]
  },
  {
   "cell_type": "code",
   "execution_count": 9,
   "metadata": {},
   "outputs": [
    {
     "data": {
      "text/html": [
       "<div>\n",
       "<style scoped>\n",
       "    .dataframe tbody tr th:only-of-type {\n",
       "        vertical-align: middle;\n",
       "    }\n",
       "\n",
       "    .dataframe tbody tr th {\n",
       "        vertical-align: top;\n",
       "    }\n",
       "\n",
       "    .dataframe thead th {\n",
       "        text-align: right;\n",
       "    }\n",
       "</style>\n",
       "<table border=\"1\" class=\"dataframe\">\n",
       "  <thead>\n",
       "    <tr style=\"text-align: right;\">\n",
       "      <th></th>\n",
       "      <th>SNo</th>\n",
       "      <th>RegionCode</th>\n",
       "      <th>Latitude</th>\n",
       "      <th>Longitude</th>\n",
       "      <th>HospitalizedPatients</th>\n",
       "      <th>IntensiveCarePatients</th>\n",
       "      <th>TotalHospitalizedPatients</th>\n",
       "      <th>HomeConfinement</th>\n",
       "      <th>CurrentPositiveCases</th>\n",
       "      <th>NewPositiveCases</th>\n",
       "      <th>Recovered</th>\n",
       "      <th>Deaths</th>\n",
       "      <th>TotalPositiveCases</th>\n",
       "      <th>TestsPerformed</th>\n",
       "    </tr>\n",
       "  </thead>\n",
       "  <tbody>\n",
       "    <tr>\n",
       "      <th>count</th>\n",
       "      <td>1533.000000</td>\n",
       "      <td>1533.000000</td>\n",
       "      <td>1533.000000</td>\n",
       "      <td>1533.000000</td>\n",
       "      <td>1533.000000</td>\n",
       "      <td>1533.000000</td>\n",
       "      <td>1533.000000</td>\n",
       "      <td>1533.000000</td>\n",
       "      <td>1533.000000</td>\n",
       "      <td>1533.000000</td>\n",
       "      <td>1533.000000</td>\n",
       "      <td>1533.000000</td>\n",
       "      <td>1533.000000</td>\n",
       "      <td>378.000000</td>\n",
       "    </tr>\n",
       "    <tr>\n",
       "      <th>mean</th>\n",
       "      <td>766.000000</td>\n",
       "      <td>10.190476</td>\n",
       "      <td>43.046293</td>\n",
       "      <td>12.225955</td>\n",
       "      <td>825.167645</td>\n",
       "      <td>104.369211</td>\n",
       "      <td>929.536856</td>\n",
       "      <td>2044.374429</td>\n",
       "      <td>2973.911285</td>\n",
       "      <td>139.888454</td>\n",
       "      <td>1249.182648</td>\n",
       "      <td>609.746249</td>\n",
       "      <td>4832.840183</td>\n",
       "      <td>59446.224868</td>\n",
       "    </tr>\n",
       "    <tr>\n",
       "      <th>std</th>\n",
       "      <td>442.683295</td>\n",
       "      <td>5.796955</td>\n",
       "      <td>2.489593</td>\n",
       "      <td>2.659815</td>\n",
       "      <td>1888.167271</td>\n",
       "      <td>203.319873</td>\n",
       "      <td>2086.318117</td>\n",
       "      <td>4053.884690</td>\n",
       "      <td>5877.434895</td>\n",
       "      <td>291.136438</td>\n",
       "      <td>3534.220784</td>\n",
       "      <td>1901.878444</td>\n",
       "      <td>11054.271712</td>\n",
       "      <td>58859.212779</td>\n",
       "    </tr>\n",
       "    <tr>\n",
       "      <th>min</th>\n",
       "      <td>0.000000</td>\n",
       "      <td>1.000000</td>\n",
       "      <td>38.115697</td>\n",
       "      <td>7.320149</td>\n",
       "      <td>0.000000</td>\n",
       "      <td>0.000000</td>\n",
       "      <td>0.000000</td>\n",
       "      <td>0.000000</td>\n",
       "      <td>0.000000</td>\n",
       "      <td>-18.000000</td>\n",
       "      <td>0.000000</td>\n",
       "      <td>0.000000</td>\n",
       "      <td>0.000000</td>\n",
       "      <td>3482.000000</td>\n",
       "    </tr>\n",
       "    <tr>\n",
       "      <th>25%</th>\n",
       "      <td>383.000000</td>\n",
       "      <td>5.000000</td>\n",
       "      <td>41.125596</td>\n",
       "      <td>11.121231</td>\n",
       "      <td>36.000000</td>\n",
       "      <td>6.000000</td>\n",
       "      <td>44.000000</td>\n",
       "      <td>83.000000</td>\n",
       "      <td>150.000000</td>\n",
       "      <td>7.000000</td>\n",
       "      <td>3.000000</td>\n",
       "      <td>4.000000</td>\n",
       "      <td>173.000000</td>\n",
       "      <td>20544.500000</td>\n",
       "    </tr>\n",
       "    <tr>\n",
       "      <th>50%</th>\n",
       "      <td>766.000000</td>\n",
       "      <td>10.000000</td>\n",
       "      <td>43.616760</td>\n",
       "      <td>12.388247</td>\n",
       "      <td>166.000000</td>\n",
       "      <td>31.000000</td>\n",
       "      <td>199.000000</td>\n",
       "      <td>608.000000</td>\n",
       "      <td>834.000000</td>\n",
       "      <td>43.000000</td>\n",
       "      <td>105.000000</td>\n",
       "      <td>75.000000</td>\n",
       "      <td>1210.000000</td>\n",
       "      <td>35047.500000</td>\n",
       "    </tr>\n",
       "    <tr>\n",
       "      <th>75%</th>\n",
       "      <td>1149.000000</td>\n",
       "      <td>15.000000</td>\n",
       "      <td>45.434905</td>\n",
       "      <td>13.768136</td>\n",
       "      <td>671.000000</td>\n",
       "      <td>109.000000</td>\n",
       "      <td>780.000000</td>\n",
       "      <td>1992.000000</td>\n",
       "      <td>2927.000000</td>\n",
       "      <td>127.000000</td>\n",
       "      <td>798.000000</td>\n",
       "      <td>327.000000</td>\n",
       "      <td>3951.000000</td>\n",
       "      <td>87424.000000</td>\n",
       "    </tr>\n",
       "    <tr>\n",
       "      <th>max</th>\n",
       "      <td>1532.000000</td>\n",
       "      <td>20.000000</td>\n",
       "      <td>46.499335</td>\n",
       "      <td>16.867367</td>\n",
       "      <td>12077.000000</td>\n",
       "      <td>1381.000000</td>\n",
       "      <td>13328.000000</td>\n",
       "      <td>30382.000000</td>\n",
       "      <td>37307.000000</td>\n",
       "      <td>3251.000000</td>\n",
       "      <td>33005.000000</td>\n",
       "      <td>14611.000000</td>\n",
       "      <td>79369.000000</td>\n",
       "      <td>262964.000000</td>\n",
       "    </tr>\n",
       "  </tbody>\n",
       "</table>\n",
       "</div>"
      ],
      "text/plain": [
       "               SNo   RegionCode     Latitude    Longitude  \\\n",
       "count  1533.000000  1533.000000  1533.000000  1533.000000   \n",
       "mean    766.000000    10.190476    43.046293    12.225955   \n",
       "std     442.683295     5.796955     2.489593     2.659815   \n",
       "min       0.000000     1.000000    38.115697     7.320149   \n",
       "25%     383.000000     5.000000    41.125596    11.121231   \n",
       "50%     766.000000    10.000000    43.616760    12.388247   \n",
       "75%    1149.000000    15.000000    45.434905    13.768136   \n",
       "max    1532.000000    20.000000    46.499335    16.867367   \n",
       "\n",
       "       HospitalizedPatients  IntensiveCarePatients  TotalHospitalizedPatients  \\\n",
       "count           1533.000000            1533.000000                1533.000000   \n",
       "mean             825.167645             104.369211                 929.536856   \n",
       "std             1888.167271             203.319873                2086.318117   \n",
       "min                0.000000               0.000000                   0.000000   \n",
       "25%               36.000000               6.000000                  44.000000   \n",
       "50%              166.000000              31.000000                 199.000000   \n",
       "75%              671.000000             109.000000                 780.000000   \n",
       "max            12077.000000            1381.000000               13328.000000   \n",
       "\n",
       "       HomeConfinement  CurrentPositiveCases  NewPositiveCases     Recovered  \\\n",
       "count      1533.000000           1533.000000       1533.000000   1533.000000   \n",
       "mean       2044.374429           2973.911285        139.888454   1249.182648   \n",
       "std        4053.884690           5877.434895        291.136438   3534.220784   \n",
       "min           0.000000              0.000000        -18.000000      0.000000   \n",
       "25%          83.000000            150.000000          7.000000      3.000000   \n",
       "50%         608.000000            834.000000         43.000000    105.000000   \n",
       "75%        1992.000000           2927.000000        127.000000    798.000000   \n",
       "max       30382.000000          37307.000000       3251.000000  33005.000000   \n",
       "\n",
       "             Deaths  TotalPositiveCases  TestsPerformed  \n",
       "count   1533.000000         1533.000000      378.000000  \n",
       "mean     609.746249         4832.840183    59446.224868  \n",
       "std     1901.878444        11054.271712    58859.212779  \n",
       "min        0.000000            0.000000     3482.000000  \n",
       "25%        4.000000          173.000000    20544.500000  \n",
       "50%       75.000000         1210.000000    35047.500000  \n",
       "75%      327.000000         3951.000000    87424.000000  \n",
       "max    14611.000000        79369.000000   262964.000000  "
      ]
     },
     "execution_count": 9,
     "metadata": {},
     "output_type": "execute_result"
    }
   ],
   "source": [
    "#let us now view summary statistics for our data using .describe() method:\n",
    "\n",
    "df.describe()"
   ]
  },
  {
   "cell_type": "code",
   "execution_count": 8,
   "metadata": {},
   "outputs": [
    {
     "data": {
      "text/plain": [
       "SNo                             0\n",
       "Date                            0\n",
       "Country                         0\n",
       "RegionCode                      0\n",
       "RegionName                      0\n",
       "Latitude                        0\n",
       "Longitude                       0\n",
       "HospitalizedPatients            0\n",
       "IntensiveCarePatients           0\n",
       "TotalHospitalizedPatients       0\n",
       "HomeConfinement                 0\n",
       "CurrentPositiveCases            0\n",
       "NewPositiveCases                0\n",
       "Recovered                       0\n",
       "Deaths                          0\n",
       "TotalPositiveCases              0\n",
       "TestsPerformed               1155\n",
       "dtype: int64"
      ]
     },
     "execution_count": 8,
     "metadata": {},
     "output_type": "execute_result"
    }
   ],
   "source": [
    "#let us check columns with missing values:\n",
    "df.isnull().sum()"
   ]
  },
  {
   "cell_type": "code",
   "execution_count": 12,
   "metadata": {},
   "outputs": [
    {
     "data": {
      "text/plain": [
       "array(['Abruzzo', 'Basilicata', 'P.A. Bolzano', 'Calabria', 'Campania',\n",
       "       'Emilia-Romagna', 'Friuli Venezia Giulia', 'Lazio', 'Liguria',\n",
       "       'Lombardia', 'Marche', 'Molise', 'Piemonte', 'Puglia', 'Sardegna',\n",
       "       'Sicilia', 'Toscana', 'P.A. Trento', 'Umbria', \"Valle d'Aosta\",\n",
       "       'Veneto'], dtype=object)"
      ]
     },
     "execution_count": 12,
     "metadata": {},
     "output_type": "execute_result"
    }
   ],
   "source": [
    "#names of unique regions:\n",
    "\n",
    "df['RegionName'].unique()"
   ]
  },
  {
   "cell_type": "code",
   "execution_count": 11,
   "metadata": {},
   "outputs": [
    {
     "data": {
      "text/plain": [
       "7408744"
      ]
     },
     "execution_count": 11,
     "metadata": {},
     "output_type": "execute_result"
    }
   ],
   "source": [
    "#total number of cumulative positive cases:\n",
    "\n",
    "df['TotalPositiveCases'].sum()"
   ]
  },
  {
   "cell_type": "code",
   "execution_count": 17,
   "metadata": {},
   "outputs": [
    {
     "data": {
      "text/plain": [
       "934741"
      ]
     },
     "execution_count": 17,
     "metadata": {},
     "output_type": "execute_result"
    }
   ],
   "source": [
    "#total cumulative deaths:\n",
    "df['Deaths'].sum()"
   ]
  },
  {
   "cell_type": "code",
   "execution_count": 20,
   "metadata": {},
   "outputs": [
    {
     "data": {
      "text/plain": [
       "1424980"
      ]
     },
     "execution_count": 20,
     "metadata": {},
     "output_type": "execute_result"
    }
   ],
   "source": [
    "#total hospitalized patients(hospitalized + intensive care): \n",
    "df['TotalHospitalizedPatients'].sum()"
   ]
  },
  {
   "cell_type": "code",
   "execution_count": 21,
   "metadata": {},
   "outputs": [
    {
     "data": {
      "text/plain": [
       "1914997"
      ]
     },
     "execution_count": 21,
     "metadata": {},
     "output_type": "execute_result"
    }
   ],
   "source": [
    "#total cumulative recovered:\n",
    "df['Recovered'].sum()"
   ]
  },
  {
   "cell_type": "markdown",
   "metadata": {},
   "source": [
    "## 1.1 Display of the Cases by Region"
   ]
  },
  {
   "cell_type": "code",
   "execution_count": 3,
   "metadata": {},
   "outputs": [
    {
     "data": {
      "text/plain": [
       "Text(0.5, 1.0, 'Total Positive Cases by region')"
      ]
     },
     "execution_count": 3,
     "metadata": {},
     "output_type": "execute_result"
    },
    {
     "data": {
      "image/png": "[encoded data removed]",
      "text/plain": [
       "<Figure size 432x288 with 1 Axes>"
      ]
     },
     "metadata": {
      "needs_background": "light"
     },
     "output_type": "display_data"
    }
   ],
   "source": [
    "#total positive cases by region name:\n",
    "fig, ax = plt.subplots()\n",
    "\n",
    "ax.bar(df['RegionName'],df['TotalPositiveCases'])\n",
    "ax.set_xlabel('Region Name')\n",
    "ax.set_xticklabels(df['RegionName'], rotation=90)\n",
    "ax.set_ylabel('Positive Cases (Cum.)')\n",
    "ax.set_title('Total Positive Cases by region')"
   ]
  },
  {
   "cell_type": "code",
   "execution_count": 4,
   "metadata": {},
   "outputs": [
    {
     "data": {
      "text/plain": [
       "Text(0.5, 1.0, 'Total deaths by region')"
      ]
     },
     "execution_count": 4,
     "metadata": {},
     "output_type": "execute_result"
    },
    {
     "data": {
      "image/png": "[encoded data removed]",
      "text/plain": [
       "<Figure size 432x288 with 1 Axes>"
      ]
     },
     "metadata": {
      "needs_background": "light"
     },
     "output_type": "display_data"
    }
   ],
   "source": [
    "# plot of total deaths by region:\n",
    "fig, ax = plt.subplots()\n",
    "\n",
    "ax.bar(df['RegionName'],df['Deaths'], color='red')\n",
    "ax.set_xlabel('Region Name')\n",
    "ax.set_xticklabels(df['RegionName'], rotation=90)\n",
    "ax.set_ylabel('Deaths')\n",
    "ax.set_title('Total deaths by region')"
   ]
  },
  {
   "cell_type": "code",
   "execution_count": 5,
   "metadata": {},
   "outputs": [
    {
     "data": {
      "text/plain": [
       "Text(0.5, 1.0, 'Total Recovered by region')"
      ]
     },
     "execution_count": 5,
     "metadata": {},
     "output_type": "execute_result"
    },
    {
     "data": {
      "image/png": "[encoded data removed]",
      "text/plain": [
       "<Figure size 432x288 with 1 Axes>"
      ]
     },
     "metadata": {
      "needs_background": "light"
     },
     "output_type": "display_data"
    }
   ],
   "source": [
    "#total recoveries by region:\n",
    "fig, ax = plt.subplots()\n",
    "\n",
    "ax.bar(df['RegionName'],df['Recovered'], color='green')\n",
    "ax.set_xlabel('Region Name')\n",
    "ax.set_xticklabels(df['RegionName'], rotation=90)\n",
    "ax.set_ylabel('Recovered')\n",
    "ax.set_title('Total Recovered by region')"
   ]
  },
  {
   "cell_type": "markdown",
   "metadata": {},
   "source": [
    "## 2. ANALYSIS OF THE KEY INDICATORS\n",
    "\n",
    "We have seen the distribution of total positive cases, total deaths and total recoveries in part 1. In section let us try to run our analysis basing ourselves on some of the key indicators related to the spread, distribution and occurance of the COVID-19 pandemic. We will run our analysis trying to address the following 3 factors; \n",
    "2.1 How postive cases, deaths and recoveries changed over time(trend analysis).\n",
    "2.2 Determine the distribution of cases by percentage hospitalized and percentage at home-confinement and the possible reasons behind the observations\n",
    "2.3 Determine the differences between final outcomes and the possible causes to observed differences  "
   ]
  },
  {
   "cell_type": "markdown",
   "metadata": {},
   "source": [
    "## 2.1 Trend analysis of cases, deaths and recoveries overtime"
   ]
  },
  {
   "cell_type": "code",
   "execution_count": 11,
   "metadata": {},
   "outputs": [
    {
     "data": {
      "text/plain": [
       "0      2020-02-24 18:00:00\n",
       "1      2020-02-24 18:00:00\n",
       "2      2020-02-24 18:00:00\n",
       "3      2020-02-24 18:00:00\n",
       "4      2020-02-24 18:00:00\n",
       "               ...        \n",
       "1528   2020-05-06 17:00:00\n",
       "1529   2020-05-06 17:00:00\n",
       "1530   2020-05-06 17:00:00\n",
       "1531   2020-05-06 17:00:00\n",
       "1532   2020-05-06 17:00:00\n",
       "Name: Date, Length: 1533, dtype: datetime64[ns]"
      ]
     },
     "execution_count": 11,
     "metadata": {},
     "output_type": "execute_result"
    }
   ],
   "source": [
    "# Let us first begin by converting 'Date' to pandas datetime object:\n",
    "pd.to_datetime(df['Date'])\n",
    "\n",
    "\n"
   ]
  },
  {
   "cell_type": "code",
   "execution_count": 23,
   "metadata": {},
   "outputs": [
    {
     "data": {
      "image/png": "[encoded data removed]",
      "text/plain": [
       "<Figure size 432x288 with 1 Axes>"
      ]
     },
     "metadata": {
      "needs_background": "light"
     },
     "output_type": "display_data"
    }
   ],
   "source": [
    "fig, ax = plt.subplots()\n",
    "\n",
    "ax.plot(df['Date'], df['TotalHospitalizedPatients'])\n",
    "ax.set_xlabel('Time')\n",
    "ax.set_ylabel('Total Hospitalized (Hospitalized + IntensiveCare)')\n",
    "ax.set_title('Total Hospitalized Overtime')\n",
    "plt.show()\n"
   ]
  },
  {
   "cell_type": "code",
   "execution_count": 24,
   "metadata": {},
   "outputs": [
    {
     "data": {
      "image/png": "[encoded data removed]",
      "text/plain": [
       "<Figure size 432x288 with 1 Axes>"
      ]
     },
     "metadata": {
      "needs_background": "light"
     },
     "output_type": "display_data"
    }
   ],
   "source": [
    "fig, ax = plt.subplots()\n",
    "\n",
    "ax.plot(df['Date'], df['Recovered'], color='green')\n",
    "ax.set_xlabel('Time')\n",
    "ax.set_ylabel('Total Recovered')\n",
    "ax.set_title('Total Recovered Overtime')\n",
    "plt.show()\n",
    "\n",
    "\n"
   ]
  },
  {
   "cell_type": "code",
   "execution_count": 26,
   "metadata": {},
   "outputs": [
    {
     "data": {
      "image/png": "[encoded data removed]",
      "text/plain": [
       "<Figure size 432x288 with 1 Axes>"
      ]
     },
     "metadata": {
      "needs_background": "light"
     },
     "output_type": "display_data"
    }
   ],
   "source": [
    "fig, ax = plt.subplots()\n",
    "\n",
    "ax.plot(df['Date'], df['Deaths'], color='red')\n",
    "ax.set_xlabel('Time')\n",
    "ax.set_ylabel('Total Deaths')\n",
    "ax.set_title('Deaths Overtime')\n",
    "plt.show()"
   ]
  },
  {
   "cell_type": "markdown",
   "metadata": {},
   "source": [
    "## 2.1.1 Interpretation \n",
    "We see from the 1st figure that there has been an upward trend of identified positive cases in Italy from the 1st March to 1st April, then the cases somewhat remained high but constant in the 1st 2 weeks of April and then a declining trend in the last 2 weeks of April until May the 7th. Taking a look at the second plot, we see that there has been some increases in the numbers recovered from beginning of March with even high increases observed towards end of April to beginning of May. The last figure shows sharp increases in the occurance of deaths from beginning of March to beginning of April. However, from April we see a somehow constant increase in the number of deaths to beginning of May."
   ]
  },
  {
   "cell_type": "markdown",
   "metadata": {},
   "source": [
    "## 2.2 This section shows the relationship between variables using Seaborn's regression plots \n",
    "\n",
    "In this section we determine the percentages of hospitalized patients and home-confined patients on the total positive cases.\n"
   ]
  },
  {
   "cell_type": "code",
   "execution_count": 75,
   "metadata": {},
   "outputs": [],
   "source": [
    "#let us define our variables:\n",
    "\n",
    "total_positive=df['TotalPositiveCases'].sum()\n",
    "total_hospitalized=df['TotalHospitalizedPatients'].sum()\n",
    "current_positive=df['CurrentPositiveCases'].sum()\n",
    "deaths= df['Deaths'].sum()\n",
    "recovered=df['Recovered'].sum()\n",
    "home_confinement=df['HomeConfinement'].sum()\n"
   ]
  },
  {
   "cell_type": "code",
   "execution_count": 76,
   "metadata": {},
   "outputs": [],
   "source": [
    "#let us now define our percentages:\n",
    "\n",
    "percent_hospitalized=total_hospitalized/total_positive\n",
    "percent_home_confinement=home_confinement/total_positive\n",
    "percent_died=deaths/total_positive\n",
    "percent_recovered=recovered/total_positive"
   ]
  },
  {
   "cell_type": "code",
   "execution_count": 77,
   "metadata": {},
   "outputs": [
    {
     "name": "stdout",
     "output_type": "stream",
     "text": [
      "0.1923375946044296\n"
     ]
    }
   ],
   "source": [
    "print(percent_hospitalized)"
   ]
  },
  {
   "cell_type": "code",
   "execution_count": 78,
   "metadata": {},
   "outputs": [
    {
     "name": "stdout",
     "output_type": "stream",
     "text": [
      "0.4230171807799001\n"
     ]
    }
   ],
   "source": [
    "print(percent_home_confinement)"
   ]
  },
  {
   "cell_type": "markdown",
   "metadata": {},
   "source": [
    "## Intrepretation \n",
    "\n",
    "We see that out of total positive cases, 42.3% of them were at home-confinement while 19.2% was hospitalized. "
   ]
  },
  {
   "cell_type": "markdown",
   "metadata": {},
   "source": [
    "## 2.3 We will now try to establish the most likely outcome for patients in home confinement"
   ]
  },
  {
   "cell_type": "code",
   "execution_count": 79,
   "metadata": {},
   "outputs": [
    {
     "name": "stdout",
     "output_type": "stream",
     "text": [
      "0.12616726937791345\n"
     ]
    }
   ],
   "source": [
    "print(percent_died)"
   ]
  },
  {
   "cell_type": "code",
   "execution_count": 80,
   "metadata": {},
   "outputs": [
    {
     "name": "stdout",
     "output_type": "stream",
     "text": [
      "0.2584779552377569\n"
     ]
    }
   ],
   "source": [
    "print(percent_recovered)"
   ]
  },
  {
   "cell_type": "markdown",
   "metadata": {},
   "source": [
    "## Interpretation \n",
    "\n",
    "We see that a greater percentage(25.8%) of positive cases has resulted in recoveries than deaths (12.6%) "
   ]
  },
  {
   "cell_type": "markdown",
   "metadata": {},
   "source": [
    "## CONCLUSION\n",
    "\n",
    "From the analysis above we see that out of the total positive cases, hospitalized cases has risen sharply in the early stage of the pandemic, then remained constant for some time and then declined at a later stage while deaths have been rising sharply in the beginning but reaching a constant increase over time. Furthermore, looking at recovered cases, we have seen that they have been rising somewhat constantly from the beginning but have shown a further increase of late.The possible explanation to this observed scenarios is that maybe the society is beginning to realise the importance of self-isolation, social-distancing and proper hygiene in preventing both new infections and re-infections It is also observable that a greater percentage of positive cases has been held at home-confinement than hospitalized. "
   ]
  },
  {
   "cell_type": "markdown",
   "metadata": {},
   "source": []
  },
  {
   "cell_type": "code",
   "execution_count": null,
   "metadata": {},
   "outputs": [],
   "source": []
  }
 ],
 "metadata": {
  "kernelspec": {
   "display_name": "Python 3",
   "language": "python",
   "name": "python3"
  },
  "language_info": {
   "codemirror_mode": {
    "name": "ipython",
    "version": 3
   },
   "file_extension": ".py",
   "mimetype": "text/x-python",
   "name": "python",
   "nbconvert_exporter": "python",
   "pygments_lexer": "ipython3",
   "version": "3.7.6"
  }
 },
 "nbformat": 4,
 "nbformat_minor": 4
}
